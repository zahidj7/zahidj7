{
  "nbformat": 4,
  "nbformat_minor": 0,
  "metadata": {
    "colab": {
      "name": "Practice.ipynb",
      "provenance": [],
      "authorship_tag": "ABX9TyOmeKs5RtcYqQ7pddzeW6I3",
      "include_colab_link": true
    },
    "kernelspec": {
      "name": "python3",
      "display_name": "Python 3"
    },
    "language_info": {
      "name": "python"
    }
  },
  "cells": [
    {
      "cell_type": "markdown",
      "metadata": {
        "id": "view-in-github",
        "colab_type": "text"
      },
      "source": [
        "<a href=\"https://colab.research.google.com/github/zahidj7/zahidj7/blob/main/Practice%20Phone.ipynb\" target=\"_parent\"><img src=\"https://colab.research.google.com/assets/colab-badge.svg\" alt=\"Open In Colab\"/></a>"
      ]
    },
    {
      "cell_type": "markdown",
      "source": [
        "# Input"
      ],
      "metadata": {
        "id": "LFakHCITZmBa"
      }
    },
    {
      "cell_type": "code",
      "execution_count": null,
      "metadata": {
        "colab": {
          "base_uri": "https://localhost:8080/"
        },
        "id": "QlMxsM467Q6j",
        "outputId": "29499c32-ee0e-4d9e-d78c-b43f2701b68a"
      },
      "outputs": [
        {
          "output_type": "stream",
          "name": "stdout",
          "text": [
            "hello \bworld\n"
          ]
        }
      ],
      "source": [
        "print(\"hello \\bworld\")"
      ]
    },
    {
      "cell_type": "code",
      "source": [
        "print(\"hello  \\rworld\")"
      ],
      "metadata": {
        "colab": {
          "base_uri": "https://localhost:8080/"
        },
        "id": "Tr1wOpoiSzTp",
        "outputId": "0266feee-9def-4b4f-a515-d40e90f38e67"
      },
      "execution_count": null,
      "outputs": [
        {
          "output_type": "stream",
          "name": "stdout",
          "text": [
            "hello  \rworld\n"
          ]
        }
      ]
    },
    {
      "cell_type": "code",
      "source": [
        "print(\"hello  \\tworld\")"
      ],
      "metadata": {
        "colab": {
          "base_uri": "https://localhost:8080/"
        },
        "id": "KrqJOM5OS4Sk",
        "outputId": "972c3b92-11e1-40da-f3c1-d7bfa35d4d97"
      },
      "execution_count": null,
      "outputs": [
        {
          "output_type": "stream",
          "name": "stdout",
          "text": [
            "hello  \tworld\n"
          ]
        }
      ]
    },
    {
      "cell_type": "code",
      "source": [
        "print(\"\"\"hello\n",
        "world\"\"\")"
      ],
      "metadata": {
        "colab": {
          "base_uri": "https://localhost:8080/"
        },
        "id": "_O_B4vgXTCKX",
        "outputId": "cd2f8e17-8076-4668-fccd-3b38b0488028"
      },
      "execution_count": null,
      "outputs": [
        {
          "output_type": "stream",
          "name": "stdout",
          "text": [
            "hello\n",
            "world\n"
          ]
        }
      ]
    },
    {
      "cell_type": "code",
      "source": [
        "print('hello\\'s world')"
      ],
      "metadata": {
        "colab": {
          "base_uri": "https://localhost:8080/"
        },
        "id": "G4cukgMoTacj",
        "outputId": "fbe7629c-3081-4d19-b66d-8267d81e92a2"
      },
      "execution_count": null,
      "outputs": [
        {
          "output_type": "stream",
          "name": "stdout",
          "text": [
            "hello's world\n"
          ]
        }
      ]
    },
    {
      "cell_type": "code",
      "source": [
        "print(\"\\145\\110\")"
      ],
      "metadata": {
        "colab": {
          "base_uri": "https://localhost:8080/"
        },
        "id": "_YJ-stONUcMv",
        "outputId": "a2f0cf5e-13b1-41be-df1d-b32d44c63fb7"
      },
      "execution_count": null,
      "outputs": [
        {
          "output_type": "stream",
          "name": "stdout",
          "text": [
            "eH\n"
          ]
        }
      ]
    },
    {
      "cell_type": "code",
      "source": [
        "print(\"\\x48\\x65\")"
      ],
      "metadata": {
        "colab": {
          "base_uri": "https://localhost:8080/"
        },
        "id": "zhcTWN2AUkxa",
        "outputId": "dab68994-3adc-43db-8921-a397b530778f"
      },
      "execution_count": null,
      "outputs": [
        {
          "output_type": "stream",
          "name": "stdout",
          "text": [
            "He\n"
          ]
        }
      ]
    },
    {
      "cell_type": "markdown",
      "source": [
        "## Only Convert int,str,float"
      ],
      "metadata": {
        "id": "ocaJ8rw_FHEW"
      }
    },
    {
      "cell_type": "code",
      "source": [
        "print(str(123))"
      ],
      "metadata": {
        "colab": {
          "base_uri": "https://localhost:8080/"
        },
        "id": "akJyY-eL2n_Y",
        "outputId": "2dd15f23-9c04-4be7-c582-2a58889463e7"
      },
      "execution_count": null,
      "outputs": [
        {
          "output_type": "stream",
          "name": "stdout",
          "text": [
            "123\n"
          ]
        }
      ]
    },
    {
      "cell_type": "code",
      "source": [
        "x=int(input(\"Name: \"))\n",
        "print(x)"
      ],
      "metadata": {
        "colab": {
          "base_uri": "https://localhost:8080/"
        },
        "id": "pX0KuTdQX54s",
        "outputId": "94c3e692-0cc7-4781-e33b-37fca5a98b01"
      },
      "execution_count": null,
      "outputs": [
        {
          "output_type": "stream",
          "name": "stdout",
          "text": [
            "Name: 876\n",
            "876\n"
          ]
        }
      ]
    },
    {
      "cell_type": "code",
      "source": [
        "x=str(input(\"Name: \"))\n",
        "print(x)"
      ],
      "metadata": {
        "colab": {
          "base_uri": "https://localhost:8080/"
        },
        "id": "NbfRaNUxCeLV",
        "outputId": "736a3764-4b54-4ec5-dd68-5dec2c694331"
      },
      "execution_count": null,
      "outputs": [
        {
          "output_type": "stream",
          "name": "stdout",
          "text": [
            "Name: zahid34.2\n",
            "zahid34.2\n"
          ]
        }
      ]
    },
    {
      "cell_type": "code",
      "source": [
        "x=float(input(\"Name: \"))\n",
        "print(x)"
      ],
      "metadata": {
        "colab": {
          "base_uri": "https://localhost:8080/"
        },
        "id": "RgnjykBXCt7T",
        "outputId": "f35f00f6-f620-4a93-e348-d308a6dd0982"
      },
      "execution_count": null,
      "outputs": [
        {
          "output_type": "stream",
          "name": "stdout",
          "text": [
            "Name: 45\n",
            "45.0\n"
          ]
        }
      ]
    },
    {
      "cell_type": "code",
      "source": [
        "x=input(\"Name: \")\n",
        "print(x)"
      ],
      "metadata": {
        "colab": {
          "base_uri": "https://localhost:8080/"
        },
        "id": "tmtwM9vBE808",
        "outputId": "065c5ebf-e542-48c8-f59d-010945f52ce7"
      },
      "execution_count": null,
      "outputs": [
        {
          "output_type": "stream",
          "name": "stdout",
          "text": [
            "Name: 34.6\n",
            "34.6\n"
          ]
        }
      ]
    },
    {
      "cell_type": "code",
      "source": [
        "a,b,c=list(map(int,input().split(\":\")))"
      ],
      "metadata": {
        "id": "1srfrcDaFbce",
        "colab": {
          "base_uri": "https://localhost:8080/"
        },
        "outputId": "13b0fa20-1f24-41bf-9602-9bbe78756d48"
      },
      "execution_count": null,
      "outputs": [
        {
          "name": "stdout",
          "output_type": "stream",
          "text": [
            "4:7:9\n"
          ]
        }
      ]
    },
    {
      "cell_type": "code",
      "source": [
        "value=input(\"Value: \").split()\n",
        "a,b=value"
      ],
      "metadata": {
        "colab": {
          "base_uri": "https://localhost:8080/"
        },
        "id": "_wANUTwIF1GI",
        "outputId": "0b673410-7df0-459c-c4e9-b1626cc6b818"
      },
      "execution_count": null,
      "outputs": [
        {
          "name": "stdout",
          "output_type": "stream",
          "text": [
            "Value: 5 6\n"
          ]
        }
      ]
    },
    {
      "cell_type": "markdown",
      "source": [
        "# Output"
      ],
      "metadata": {
        "id": "N0vnbhfmFRzg"
      }
    },
    {
      "cell_type": "code",
      "source": [
        "a,b=9,\"Zahid\"\n",
        "print(\"%.3lf\"%a)\n",
        "print((\"%i And %s\")%(a,b))\n",
        "print(\"Values :\",a,b)"
      ],
      "metadata": {
        "colab": {
          "base_uri": "https://localhost:8080/"
        },
        "id": "6psoUWWfHOY1",
        "outputId": "e8882710-99bd-4aef-eda7-f78e38f050be"
      },
      "execution_count": null,
      "outputs": [
        {
          "output_type": "stream",
          "name": "stdout",
          "text": [
            "9.000\n",
            "9 And Zahid\n",
            "Values : 9 Zahid\n"
          ]
        }
      ]
    },
    {
      "cell_type": "code",
      "source": [
        "print(\"{} Anything\".format(a))"
      ],
      "metadata": {
        "id": "hPbP9z0NIL-U",
        "colab": {
          "base_uri": "https://localhost:8080/"
        },
        "outputId": "e215b0ee-da80-48a7-fb3c-c1d9f584c37c"
      },
      "execution_count": null,
      "outputs": [
        {
          "output_type": "stream",
          "name": "stdout",
          "text": [
            "9 Anything\n"
          ]
        }
      ]
    },
    {
      "cell_type": "code",
      "source": [
        "print(\"Anything {} Can {}\".format(b,a))"
      ],
      "metadata": {
        "colab": {
          "base_uri": "https://localhost:8080/"
        },
        "id": "Fx24Byh9KenU",
        "outputId": "b9f88f74-8f2a-4835-d255-28efda59706b"
      },
      "execution_count": null,
      "outputs": [
        {
          "output_type": "stream",
          "name": "stdout",
          "text": [
            "Anything Zahid Can 9\n"
          ]
        }
      ]
    },
    {
      "cell_type": "code",
      "source": [
        "b=\"Allignment\"\n",
        "print(\"Left justification\", b.ljust(11, \"*\"))\n",
        "print(\"Right justification\", b.rjust(12, \"*\"))\n",
        "print(\"Center justification\", b.center(12, \"*\"))"
      ],
      "metadata": {
        "colab": {
          "base_uri": "https://localhost:8080/"
        },
        "id": "3nzduD0wN84G",
        "outputId": "6b338649-6f4c-4ec6-c98b-fd52256aa39b"
      },
      "execution_count": null,
      "outputs": [
        {
          "output_type": "stream",
          "name": "stdout",
          "text": [
            "Left justification Allignment*\n",
            "Right justification **Allignment\n",
            "Center justification *Allignment*\n"
          ]
        }
      ]
    },
    {
      "cell_type": "code",
      "source": [
        "def check_is_digit(input_str):\n",
        "    if input_str.strip().isdigit():\n",
        "        print(\"User input is Number\")\n",
        "    else:\n",
        "        print(\"User input is string\")\n",
        "\n",
        "\n",
        "num1 = input(\"Enter number and hit enter\")\n",
        "check_is_digit(num1)\n",
        "\n",
        "num2 = input(\"Enter number and hit enter\")\n",
        "check_is_digit(num2)"
      ],
      "metadata": {
        "colab": {
          "base_uri": "https://localhost:8080/"
        },
        "id": "b7wRYHGFKfrN",
        "outputId": "f21d72a0-2797-4a7c-83ec-86429b0de436"
      },
      "execution_count": null,
      "outputs": [
        {
          "output_type": "stream",
          "name": "stdout",
          "text": [
            "Enter number and hit enterhgf\n",
            "User input is string\n",
            "Enter number and hit enter76\n",
            "User input is Number\n"
          ]
        }
      ]
    },
    {
      "cell_type": "markdown",
      "source": [
        "# String OPeration"
      ],
      "metadata": {
        "id": "swkp5TnKlagU"
      }
    },
    {
      "cell_type": "code",
      "source": [
        "print(\"First\"+\"Second\")"
      ],
      "metadata": {
        "colab": {
          "base_uri": "https://localhost:8080/"
        },
        "id": "CJ7PiI0wnf2Z",
        "outputId": "173c5efb-b010-420c-d0e2-66544db2e06b"
      },
      "execution_count": null,
      "outputs": [
        {
          "output_type": "stream",
          "name": "stdout",
          "text": [
            "FirstSecond\n"
          ]
        }
      ]
    },
    {
      "cell_type": "code",
      "source": [
        "print(\"Zahid\"*3)"
      ],
      "metadata": {
        "colab": {
          "base_uri": "https://localhost:8080/"
        },
        "id": "WSHXYT15oMjq",
        "outputId": "2f50a121-2792-45ca-83c0-cccdd8133fa7"
      },
      "execution_count": null,
      "outputs": [
        {
          "output_type": "stream",
          "name": "stdout",
          "text": [
            "ZahidZahidZahid\n"
          ]
        }
      ]
    },
    {
      "cell_type": "code",
      "source": [
        "print(3*\"5\")"
      ],
      "metadata": {
        "colab": {
          "base_uri": "https://localhost:8080/"
        },
        "id": "Oyjp9LsOok2O",
        "outputId": "9a95954b-bf9c-43c8-e88c-a98c67dd476b"
      },
      "execution_count": null,
      "outputs": [
        {
          "output_type": "stream",
          "name": "stdout",
          "text": [
            "555\n"
          ]
        }
      ]
    },
    {
      "cell_type": "code",
      "source": [
        "print(\"zahid : {0}, Joy= {1}\".format(2587,2676))"
      ],
      "metadata": {
        "colab": {
          "base_uri": "https://localhost:8080/"
        },
        "id": "lVKzYvxmqPoL",
        "outputId": "7ea29ead-b1f7-476f-a4fc-c8d140619bed"
      },
      "execution_count": null,
      "outputs": [
        {
          "output_type": "stream",
          "name": "stdout",
          "text": [
            "zahid : 2587, Joy= 2676\n"
          ]
        }
      ]
    },
    {
      "cell_type": "code",
      "source": [
        "print(\"{1} {0}\".format(2587,2767))"
      ],
      "metadata": {
        "colab": {
          "base_uri": "https://localhost:8080/"
        },
        "id": "_LSBLMTSq0dP",
        "outputId": "a970924e-63a0-487e-f0b7-4fbb150a8e61"
      },
      "execution_count": null,
      "outputs": [
        {
          "output_type": "stream",
          "name": "stdout",
          "text": [
            "2767 2587\n"
          ]
        }
      ]
    },
    {
      "cell_type": "code",
      "source": [
        "print(\"|\".join([\"apple\",\"orange\",\"banana\"]))"
      ],
      "metadata": {
        "colab": {
          "base_uri": "https://localhost:8080/"
        },
        "id": "pJ5_rnPOsKyw",
        "outputId": "daab6160-83a9-476d-b842-3451dd29a156"
      },
      "execution_count": null,
      "outputs": [
        {
          "output_type": "stream",
          "name": "stdout",
          "text": [
            "apple|orange|banana\n"
          ]
        }
      ]
    },
    {
      "cell_type": "code",
      "source": [
        "myTuple = (\"John\", \"Peter\", \"Vicky\")\n",
        "\n",
        "print(\"#\".join(myTuple))\n"
      ],
      "metadata": {
        "colab": {
          "base_uri": "https://localhost:8080/"
        },
        "id": "dQLabA-SsLL4",
        "outputId": "163f749a-66ef-46d9-a63d-e70aaa739e4a"
      },
      "execution_count": null,
      "outputs": [
        {
          "output_type": "stream",
          "name": "stdout",
          "text": [
            "John#Peter#Vicky\n"
          ]
        }
      ]
    },
    {
      "cell_type": "code",
      "source": [
        "print(\"ZAHID\".lower())"
      ],
      "metadata": {
        "colab": {
          "base_uri": "https://localhost:8080/"
        },
        "id": "WWCVTYBslZ8L",
        "outputId": "e0644741-0df5-4b05-c67d-f2e69793a1bc"
      },
      "execution_count": null,
      "outputs": [
        {
          "output_type": "stream",
          "name": "stdout",
          "text": [
            "zahid\n"
          ]
        }
      ]
    },
    {
      "cell_type": "code",
      "source": [
        "print(\"HEllo Zahid\".replace(\"HEllo\",\"HI\"))"
      ],
      "metadata": {
        "colab": {
          "base_uri": "https://localhost:8080/"
        },
        "id": "Ywg1kF_pxDCW",
        "outputId": "41051924-d121-40c7-869e-200bee977e5a"
      },
      "execution_count": null,
      "outputs": [
        {
          "output_type": "stream",
          "name": "stdout",
          "text": [
            "HI Zahid\n"
          ]
        }
      ]
    },
    {
      "cell_type": "code",
      "source": [
        "print(\"a,b,c\".split())"
      ],
      "metadata": {
        "colab": {
          "base_uri": "https://localhost:8080/"
        },
        "id": "0BiqIgV-08xK",
        "outputId": "3829b58f-e60c-40bd-c07b-aba998a0ba74"
      },
      "execution_count": null,
      "outputs": [
        {
          "output_type": "stream",
          "name": "stdout",
          "text": [
            "['a,b,c']\n"
          ]
        }
      ]
    },
    {
      "cell_type": "code",
      "source": [
        "txt = \"I love apples, apple are my favorite fruit\"\n",
        "\n",
        "x = txt.count(\"apple\")\n",
        "\n",
        "print(x)\n"
      ],
      "metadata": {
        "colab": {
          "base_uri": "https://localhost:8080/"
        },
        "id": "PKke48Iix_QW",
        "outputId": "edf36683-5227-498a-ea69-15b784ca2bad"
      },
      "execution_count": null,
      "outputs": [
        {
          "output_type": "stream",
          "name": "stdout",
          "text": [
            "2\n"
          ]
        }
      ]
    },
    {
      "cell_type": "markdown",
      "source": [
        "in Place operator"
      ],
      "metadata": {
        "id": "30jFBfz86STh"
      }
    },
    {
      "cell_type": "code",
      "source": [
        "l=\"zahid\"\n",
        "l+=\" Hasan\"\n",
        "l+=\" 2\"\n",
        "print(l)"
      ],
      "metadata": {
        "colab": {
          "base_uri": "https://localhost:8080/"
        },
        "id": "DjScyhzt6QUB",
        "outputId": "bec2b591-98ef-45c4-9705-a9dcf35cc07a"
      },
      "execution_count": null,
      "outputs": [
        {
          "output_type": "stream",
          "name": "stdout",
          "text": [
            "zahid Hasan 2\n"
          ]
        }
      ]
    },
    {
      "cell_type": "code",
      "source": [
        "\n",
        "7==7"
      ],
      "metadata": {
        "colab": {
          "base_uri": "https://localhost:8080/"
        },
        "id": "utSMIMTj_frY",
        "outputId": "be93203e-7485-4c8d-c7ae-239c57b40aeb"
      },
      "execution_count": null,
      "outputs": [
        {
          "output_type": "execute_result",
          "data": {
            "text/plain": [
              "True"
            ]
          },
          "metadata": {},
          "execution_count": 124
        }
      ]
    },
    {
      "cell_type": "markdown",
      "source": [
        "# if,while,loop"
      ],
      "metadata": {
        "id": "j6p2PtG0YjpP"
      }
    },
    {
      "cell_type": "code",
      "source": [
        "i=1\n",
        "while(i<7):\n",
        "    print(i)\n",
        "    i+=1"
      ],
      "metadata": {
        "colab": {
          "base_uri": "https://localhost:8080/"
        },
        "id": "cWJdePiyYpty",
        "outputId": "6dcfe514-3988-4e70-ff34-2862d885f94f"
      },
      "execution_count": null,
      "outputs": [
        {
          "output_type": "stream",
          "name": "stdout",
          "text": [
            "1\n",
            "2\n",
            "3\n",
            "4\n",
            "5\n",
            "6\n"
          ]
        }
      ]
    },
    {
      "cell_type": "code",
      "source": [
        "for i in range(1,10,2):\n",
        "    print(i)"
      ],
      "metadata": {
        "colab": {
          "base_uri": "https://localhost:8080/"
        },
        "id": "6bopK_FvY9C6",
        "outputId": "6045502c-0f6d-4876-b7aa-fd4147a1c725"
      },
      "execution_count": null,
      "outputs": [
        {
          "output_type": "stream",
          "name": "stdout",
          "text": [
            "1\n",
            "3\n",
            "5\n",
            "7\n",
            "9\n"
          ]
        }
      ]
    },
    {
      "cell_type": "code",
      "source": [
        "for i in range(1,10+1):\n",
        "    if(i%2==0):\n",
        "        print(i)"
      ],
      "metadata": {
        "colab": {
          "base_uri": "https://localhost:8080/"
        },
        "id": "nk1HZm9gZR7y",
        "outputId": "c21d0176-9421-4bd8-ac22-adb6020e54b5"
      },
      "execution_count": null,
      "outputs": [
        {
          "output_type": "stream",
          "name": "stdout",
          "text": [
            "2\n",
            "4\n",
            "6\n",
            "8\n",
            "10\n"
          ]
        }
      ]
    },
    {
      "cell_type": "code",
      "source": [
        "sum=0\n",
        "for i in range(1,10+1):\n",
        "    sum=sum+i\n",
        "print(sum)\n"
      ],
      "metadata": {
        "colab": {
          "base_uri": "https://localhost:8080/"
        },
        "id": "pADn3ZgKZrZX",
        "outputId": "811c2483-c8d5-466d-c92f-823c15253c17"
      },
      "execution_count": null,
      "outputs": [
        {
          "output_type": "stream",
          "name": "stdout",
          "text": [
            "55\n"
          ]
        }
      ]
    },
    {
      "cell_type": "code",
      "source": [
        "c=0\n",
        "i=0\n",
        "while(i<10):\n",
        "    c+=1\n",
        "    i=i+1\n",
        "print(c)"
      ],
      "metadata": {
        "colab": {
          "base_uri": "https://localhost:8080/"
        },
        "id": "VC6gHnXHZ_IO",
        "outputId": "9196f35b-54f6-4960-b56b-b702a042e1bc"
      },
      "execution_count": null,
      "outputs": [
        {
          "output_type": "stream",
          "name": "stdout",
          "text": [
            "10\n"
          ]
        }
      ]
    },
    {
      "cell_type": "code",
      "source": [
        "i=0\n",
        "while 1==1:\n",
        "    print(i)\n",
        "    i=i+1\n",
        "    if i>=5:\n",
        "        print(\"Breaking\")\n",
        "        break\n",
        "print(\"finished\")"
      ],
      "metadata": {
        "colab": {
          "base_uri": "https://localhost:8080/"
        },
        "id": "XMd28iFKcJrv",
        "outputId": "99f458f6-45d4-4cf5-c193-56e254e956ef"
      },
      "execution_count": null,
      "outputs": [
        {
          "output_type": "stream",
          "name": "stdout",
          "text": [
            "0\n",
            "1\n",
            "2\n",
            "3\n",
            "4\n",
            "Breaking\n",
            "finished\n"
          ]
        }
      ]
    },
    {
      "cell_type": "code",
      "source": [
        "i=0\n",
        "while True:\n",
        "    i=i+1\n",
        "    if i==2:\n",
        "        print(\"skippping \")\n",
        "        continue\n",
        "    if i==5:\n",
        "        break\n",
        "    print(i)"
      ],
      "metadata": {
        "colab": {
          "base_uri": "https://localhost:8080/"
        },
        "id": "QSiM8fS6d8WH",
        "outputId": "a0268f50-f0eb-4296-ac05-16e470790b3b"
      },
      "execution_count": null,
      "outputs": [
        {
          "output_type": "stream",
          "name": "stdout",
          "text": [
            "1\n",
            "skippping \n",
            "3\n",
            "4\n"
          ]
        }
      ]
    },
    {
      "cell_type": "code",
      "source": [
        "x=[\"hello\",\"world\"]\n",
        "print(x[1])\n",
        "print(x[0])"
      ],
      "metadata": {
        "colab": {
          "base_uri": "https://localhost:8080/"
        },
        "id": "xluViWK7q73b",
        "outputId": "83e61b0a-c4ac-4174-af23-569eb1817cc5"
      },
      "execution_count": null,
      "outputs": [
        {
          "output_type": "stream",
          "name": "stdout",
          "text": [
            "world\n",
            "hello\n"
          ]
        }
      ]
    },
    {
      "cell_type": "code",
      "source": [
        "y=\"hello world\"\n",
        "print(y[6])"
      ],
      "metadata": {
        "colab": {
          "base_uri": "https://localhost:8080/"
        },
        "id": "pQprNeFhuJMM",
        "outputId": "1921e793-1edb-47df-8267-dc55bb7ca0d8"
      },
      "execution_count": null,
      "outputs": [
        {
          "output_type": "stream",
          "name": "stdout",
          "text": [
            "w\n"
          ]
        }
      ]
    },
    {
      "cell_type": "code",
      "source": [
        "x=['za','jo','sa']\n",
        "x[2]='zahid'\n",
        "print(x)"
      ],
      "metadata": {
        "colab": {
          "base_uri": "https://localhost:8080/"
        },
        "id": "JuCtNYLGvWPi",
        "outputId": "ca12e3f7-bc89-43f0-90ba-eecfc6b526e8"
      },
      "execution_count": null,
      "outputs": [
        {
          "output_type": "stream",
          "name": "stdout",
          "text": [
            "['za', 'jo', 'zahid']\n"
          ]
        }
      ]
    },
    {
      "cell_type": "code",
      "source": [
        "x=[1,2,3]\n",
        "y=[4,5,6]\n",
        "print(x+y)\n",
        "print(\"cross\",(x*3))"
      ],
      "metadata": {
        "colab": {
          "base_uri": "https://localhost:8080/"
        },
        "id": "SG5JztdrwAh7",
        "outputId": "7eda162e-0bf6-42e4-c17c-8dc2ebe9c2f0"
      },
      "execution_count": null,
      "outputs": [
        {
          "output_type": "stream",
          "name": "stdout",
          "text": [
            "[1, 2, 3, 4, 5, 6]\n",
            "cross [1, 2, 3, 1, 2, 3, 1, 2, 3]\n"
          ]
        }
      ]
    },
    {
      "cell_type": "code",
      "source": [
        "x=[\"Zahid\",\"Joy\"]\n",
        "print(\"Zahid\" in x)"
      ],
      "metadata": {
        "colab": {
          "base_uri": "https://localhost:8080/"
        },
        "id": "NgW4cmS1wVdp",
        "outputId": "730d89c3-2239-4f57-9f53-b2f6643a8c3e"
      },
      "execution_count": null,
      "outputs": [
        {
          "output_type": "stream",
          "name": "stdout",
          "text": [
            "True\n"
          ]
        }
      ]
    },
    {
      "cell_type": "code",
      "source": [
        "x=[1,2,3]\n",
        "x.append(4)\n",
        "print(x)"
      ],
      "metadata": {
        "colab": {
          "base_uri": "https://localhost:8080/"
        },
        "id": "yzX6cOcuyBtf",
        "outputId": "291316a2-211a-46f9-daf9-9cc9c58d3dcc"
      },
      "execution_count": null,
      "outputs": [
        {
          "output_type": "stream",
          "name": "stdout",
          "text": [
            "[1, 2, 3, 4]\n"
          ]
        }
      ]
    },
    {
      "cell_type": "code",
      "source": [
        "x=[\"a\",\"d\"]\n",
        "x.insert(1,\"b\")\n",
        "x.insert(2,\"c\")\n",
        "print(x)"
      ],
      "metadata": {
        "colab": {
          "base_uri": "https://localhost:8080/"
        },
        "id": "BNpa9oZ8zRQT",
        "outputId": "a194fc99-076b-4b69-c470-e55d76187be3"
      },
      "execution_count": null,
      "outputs": [
        {
          "output_type": "stream",
          "name": "stdout",
          "text": [
            "['a', 'b', 'c', 'd']\n"
          ]
        }
      ]
    },
    {
      "cell_type": "markdown",
      "source": [
        "# Range"
      ],
      "metadata": {
        "id": "2XwQhT3Gmx8v"
      }
    },
    {
      "cell_type": "code",
      "source": [
        "print(list(range(10)))"
      ],
      "metadata": {
        "colab": {
          "base_uri": "https://localhost:8080/"
        },
        "id": "M9edf0vLm1NH",
        "outputId": "b2ec355c-90b9-452b-8a49-2f5c122bcbd0"
      },
      "execution_count": null,
      "outputs": [
        {
          "output_type": "stream",
          "name": "stdout",
          "text": [
            "[0, 1, 2, 3, 4, 5, 6, 7, 8, 9]\n"
          ]
        }
      ]
    },
    {
      "cell_type": "code",
      "source": [
        "print(list(range(1,10,2)))"
      ],
      "metadata": {
        "colab": {
          "base_uri": "https://localhost:8080/"
        },
        "id": "KqEi_aoJm_eR",
        "outputId": "93d5df37-b394-4fd7-b168-112402390091"
      },
      "execution_count": null,
      "outputs": [
        {
          "output_type": "stream",
          "name": "stdout",
          "text": [
            "[1, 3, 5, 7, 9]\n"
          ]
        }
      ]
    },
    {
      "cell_type": "markdown",
      "source": [
        "# for lo0p"
      ],
      "metadata": {
        "id": "EFpqGv34pLNg"
      }
    },
    {
      "cell_type": "code",
      "source": [
        "name=[\"zahid\",\"hasan\",\"joy\",\"shagor\"]\n",
        "for i in name:\n",
        "    print(i+\" Vala\")"
      ],
      "metadata": {
        "colab": {
          "base_uri": "https://localhost:8080/"
        },
        "id": "g7CSEc2ypHRo",
        "outputId": "dfeec7de-6822-4508-bf48-29790a5aaeba"
      },
      "execution_count": null,
      "outputs": [
        {
          "output_type": "stream",
          "name": "stdout",
          "text": [
            "zahid Vala\n",
            "hasan Vala\n",
            "joy Vala\n",
            "shagor Vala\n"
          ]
        }
      ]
    },
    {
      "cell_type": "code",
      "source": [
        "for i in range(1,3):\n",
        "    print(i)"
      ],
      "metadata": {
        "colab": {
          "base_uri": "https://localhost:8080/"
        },
        "id": "EzMPBwzmr0mc",
        "outputId": "d5a0dca0-41ab-4d2d-d60d-460f1c78d5bd"
      },
      "execution_count": null,
      "outputs": [
        {
          "output_type": "stream",
          "name": "stdout",
          "text": [
            "1\n",
            "2\n"
          ]
        }
      ]
    },
    {
      "cell_type": "code",
      "source": [
        "for i in \"zahid\":\n",
        "    print(i)"
      ],
      "metadata": {
        "colab": {
          "base_uri": "https://localhost:8080/"
        },
        "id": "-utDVkN5r6Uv",
        "outputId": "ab3f8c22-30dc-40e6-939f-7ea902312703"
      },
      "execution_count": null,
      "outputs": [
        {
          "output_type": "stream",
          "name": "stdout",
          "text": [
            "z\n",
            "a\n",
            "h\n",
            "i\n",
            "d\n"
          ]
        }
      ]
    },
    {
      "cell_type": "code",
      "source": [
        "x="
      ],
      "metadata": {
        "id": "1ziGLVKOUs6G"
      },
      "execution_count": null,
      "outputs": []
    },
    {
      "cell_type": "markdown",
      "source": [
        "# list"
      ],
      "metadata": {
        "id": "YNHmv4F2fExb"
      }
    },
    {
      "cell_type": "code",
      "source": [
        "x=[0,1,2,3,4,5,6,7,8]\n",
        "print(x[4:6])\n",
        "print(x[6:])\n",
        "print(x[:4])"
      ],
      "metadata": {
        "colab": {
          "base_uri": "https://localhost:8080/"
        },
        "id": "O5KbCo9-fGeY",
        "outputId": "df159dca-ae93-4dec-cc52-8f39cc0955b5"
      },
      "execution_count": null,
      "outputs": [
        {
          "output_type": "stream",
          "name": "stdout",
          "text": [
            "[4, 5]\n",
            "[6, 7, 8]\n",
            "[0, 1, 2, 3]\n"
          ]
        }
      ]
    },
    {
      "cell_type": "code",
      "source": [
        "#Index Jump\n",
        "print(x[1:8:2])"
      ],
      "metadata": {
        "colab": {
          "base_uri": "https://localhost:8080/"
        },
        "id": "LySYV07FgYue",
        "outputId": "3773fe6a-1ee4-4543-9437-61e8e52bb08f"
      },
      "execution_count": null,
      "outputs": [
        {
          "output_type": "stream",
          "name": "stdout",
          "text": [
            "[1, 3, 5, 7]\n"
          ]
        }
      ]
    },
    {
      "cell_type": "code",
      "source": [
        "#NEgative index\n",
        "print(x[2:-2])"
      ],
      "metadata": {
        "colab": {
          "base_uri": "https://localhost:8080/"
        },
        "id": "nK80dTqpho8e",
        "outputId": "e63b5b55-b768-473d-8c5b-0429f14278b8"
      },
      "execution_count": null,
      "outputs": [
        {
          "output_type": "stream",
          "name": "stdout",
          "text": [
            "[2, 3, 4, 5, 6]\n"
          ]
        }
      ]
    },
    {
      "cell_type": "code",
      "source": [
        "#Reverse\n",
        "print(x[::-1])"
      ],
      "metadata": {
        "colab": {
          "base_uri": "https://localhost:8080/"
        },
        "id": "Zsg9qsGQiR-U",
        "outputId": "575c1ea3-a985-4ce1-dd83-9d64becd8a44"
      },
      "execution_count": null,
      "outputs": [
        {
          "output_type": "stream",
          "name": "stdout",
          "text": [
            "[8, 7, 6, 5, 4, 3, 2, 1, 0]\n"
          ]
        }
      ]
    },
    {
      "cell_type": "code",
      "source": [
        "print(max(x))\n",
        "print(min(x))\n",
        "print(sum(x))"
      ],
      "metadata": {
        "colab": {
          "base_uri": "https://localhost:8080/"
        },
        "id": "AOkrxHUKijj9",
        "outputId": "04555ce8-f1d6-445c-b435-a95e811ccad9"
      },
      "execution_count": null,
      "outputs": [
        {
          "output_type": "stream",
          "name": "stdout",
          "text": [
            "8\n",
            "0\n",
            "36\n"
          ]
        }
      ]
    },
    {
      "cell_type": "markdown",
      "source": [
        "# dictitionary"
      ],
      "metadata": {
        "id": "OzepZTBVsU_i"
      }
    },
    {
      "cell_type": "code",
      "source": [
        "x={\"zahid\":2587,\"joy\":2676}\n",
        "print(x[\"zahid\"])"
      ],
      "metadata": {
        "colab": {
          "base_uri": "https://localhost:8080/"
        },
        "id": "ds7yJYD9UyQL",
        "outputId": "237489c8-13ce-48bb-c82e-09d41063d251"
      },
      "execution_count": null,
      "outputs": [
        {
          "output_type": "stream",
          "name": "stdout",
          "text": [
            "2587\n"
          ]
        }
      ]
    },
    {
      "cell_type": "code",
      "source": [
        "x={\"zahid\":[2587,191,15],\"joy\":2676}\n",
        "print(x[\"zahid\"])"
      ],
      "metadata": {
        "colab": {
          "base_uri": "https://localhost:8080/"
        },
        "id": "eiEiuVPKVxhV",
        "outputId": "03039e63-9f9e-43b6-f59b-0e0c79339a73"
      },
      "execution_count": null,
      "outputs": [
        {
          "output_type": "stream",
          "name": "stdout",
          "text": [
            "[2587, 191, 15]\n"
          ]
        }
      ]
    },
    {
      "cell_type": "code",
      "source": [
        "x={1:1,2:4,3:\"what?\"}\n",
        "x[3],x[2]=9,3\n",
        "print(x)"
      ],
      "metadata": {
        "colab": {
          "base_uri": "https://localhost:8080/"
        },
        "id": "EUMCUkkFXYTK",
        "outputId": "c7cad33b-a755-49f0-b967-3d0a74d86364"
      },
      "execution_count": null,
      "outputs": [
        {
          "output_type": "stream",
          "name": "stdout",
          "text": [
            "{1: 1, 2: 3, 3: 9}\n"
          ]
        }
      ]
    },
    {
      "cell_type": "code",
      "source": [
        "x={1:1,2:4,3:\"what?\"}\n",
        "x[4],x[5]=9,3\n",
        "print(x)"
      ],
      "metadata": {
        "colab": {
          "base_uri": "https://localhost:8080/"
        },
        "id": "pm-UYqgpZCn6",
        "outputId": "596b0654-4e2b-4bd3-9f45-b6acb372d522"
      },
      "execution_count": null,
      "outputs": [
        {
          "output_type": "stream",
          "name": "stdout",
          "text": [
            "{1: 1, 2: 4, 3: 'what?', 4: 9, 5: 3}\n"
          ]
        }
      ]
    },
    {
      "cell_type": "code",
      "source": [
        "x={1:\"Zahid\",2:\"one\",3:9}\n",
        "print(2 in x)\n",
        "print(\"Zahid\" in x)\n",
        "print(4 not in x)"
      ],
      "metadata": {
        "colab": {
          "base_uri": "https://localhost:8080/"
        },
        "id": "oKf_EQlNZhm7",
        "outputId": "8d26346a-3063-44d7-9df8-f1502ff51b36"
      },
      "execution_count": null,
      "outputs": [
        {
          "output_type": "stream",
          "name": "stdout",
          "text": [
            "True\n",
            "False\n",
            "True\n"
          ]
        }
      ]
    },
    {
      "cell_type": "code",
      "source": [
        "x={1:\"Zahid\",2:\"one\",3:9}\n",
        "print(x.get(4))\n",
        "print(x.get(5,\"NOt FOund\"))"
      ],
      "metadata": {
        "colab": {
          "base_uri": "https://localhost:8080/"
        },
        "id": "IUGW4OD3bL-H",
        "outputId": "03103709-8372-43fb-8b0b-2f97e2f88ec8"
      },
      "execution_count": null,
      "outputs": [
        {
          "output_type": "stream",
          "name": "stdout",
          "text": [
            "None\n",
            "NOt FOund\n"
          ]
        }
      ]
    },
    {
      "cell_type": "markdown",
      "source": [
        "# List And Dictionary Cpmprehension"
      ],
      "metadata": {
        "id": "COXWFufQ7ydR"
      }
    },
    {
      "cell_type": "code",
      "source": [
        "x=[1,2,3,4,5,6,7,8]\n",
        "x_even=[]\n",
        "for i in x:\n",
        "    if i%2==0:\n",
        "        x_even.append(i)\n",
        "print(x_even)"
      ],
      "metadata": {
        "colab": {
          "base_uri": "https://localhost:8080/"
        },
        "id": "IHEsmy6576Gk",
        "outputId": "2dba4244-f6ba-4a95-9657-23251090a718"
      },
      "execution_count": null,
      "outputs": [
        {
          "output_type": "stream",
          "name": "stdout",
          "text": [
            "[2, 4, 6, 8]\n"
          ]
        }
      ]
    },
    {
      "cell_type": "code",
      "source": [
        "x_even=[i for i in x if i%2==0 ]\n",
        "print(x_even)"
      ],
      "metadata": {
        "colab": {
          "base_uri": "https://localhost:8080/"
        },
        "id": "x2C9xEr59NdK",
        "outputId": "5621e9d9-17ab-48ef-f4b0-810bdda49de1"
      },
      "execution_count": null,
      "outputs": [
        {
          "output_type": "stream",
          "name": "stdout",
          "text": [
            "[2, 4, 6, 8]\n"
          ]
        }
      ]
    },
    {
      "cell_type": "code",
      "source": [
        "vowels='aeiou'\n",
        "sentence='I am awesome'\n",
        "filter_letter=[]\n",
        "for letter in sentence:\n",
        "    if letter not in vowels:\n",
        "        filter_letter.append(letter)\n",
        "print(''.join(filter_letter))"
      ],
      "metadata": {
        "colab": {
          "base_uri": "https://localhost:8080/"
        },
        "id": "yUnZ-i69CH3h",
        "outputId": "050da145-5de7-497a-d252-ddda398f2f22"
      },
      "execution_count": null,
      "outputs": [
        {
          "output_type": "stream",
          "name": "stdout",
          "text": [
            "I m wsm\n"
          ]
        }
      ]
    },
    {
      "cell_type": "code",
      "source": [
        "filter_sentence=' '.join([letter for letter in sentence if letter not in vowels])\n",
        "print(filter_sentence)"
      ],
      "metadata": {
        "colab": {
          "base_uri": "https://localhost:8080/"
        },
        "id": "730wFEVvC5IS",
        "outputId": "33683712-57c7-4261-9185-6d59289e4fb6"
      },
      "execution_count": null,
      "outputs": [
        {
          "output_type": "stream",
          "name": "stdout",
          "text": [
            "I   m   w s m\n"
          ]
        }
      ]
    },
    {
      "cell_type": "code",
      "source": [
        "fruit_ranking=[1,2,3]\n",
        "fruit_name=['waterlemon','mango','lichi','orange']\n",
        "fruit_rank_dict={}\n",
        "for i in range(len(fruit_ranking)):\n",
        "    fruit_rank_dict[fruit_ranking[i]]=fruit_name[i]\n",
        "print(fruit_rank_dict)"
      ],
      "metadata": {
        "colab": {
          "base_uri": "https://localhost:8080/"
        },
        "id": "7SMDyK3-E7SB",
        "outputId": "fa50097b-bcde-4fe8-8356-ed468aa16fb3"
      },
      "execution_count": null,
      "outputs": [
        {
          "output_type": "stream",
          "name": "stdout",
          "text": [
            "{1: 'waterlemon', 2: 'mango', 3: 'lichi'}\n"
          ]
        }
      ]
    },
    {
      "cell_type": "markdown",
      "source": [
        "# Tuple"
      ],
      "metadata": {
        "id": "jsVBjT5zY_KP"
      }
    },
    {
      "cell_type": "code",
      "source": [
        "x=(\"ZAHid\",\"JOY\")\n",
        "print(x[0])"
      ],
      "metadata": {
        "colab": {
          "base_uri": "https://localhost:8080/"
        },
        "id": "nfWC4S8_YKk4",
        "outputId": "5d509c14-412b-4b01-8f46-f07a4db36a87"
      },
      "execution_count": null,
      "outputs": [
        {
          "output_type": "stream",
          "name": "stdout",
          "text": [
            "ZAHid\n"
          ]
        }
      ]
    },
    {
      "cell_type": "code",
      "source": [
        "x=((\"ZAHid\",\"JOY\"),[1,2,3],{\"y\":\"shagor\"})\n",
        "print(x[2])"
      ],
      "metadata": {
        "colab": {
          "base_uri": "https://localhost:8080/"
        },
        "id": "prLyAXfTZikv",
        "outputId": "906dacbd-4bd1-4a29-f7f6-312f0cd013fb"
      },
      "execution_count": null,
      "outputs": [
        {
          "output_type": "stream",
          "name": "stdout",
          "text": [
            "{'y': 'shagor'}\n"
          ]
        }
      ]
    },
    {
      "cell_type": "code",
      "source": [
        "x=((\"ZAHid\",\"JOY\"),[1,2,3],{\"y\":\"shagor\"})\n",
        "print(x[2][\"y\"])"
      ],
      "metadata": {
        "colab": {
          "base_uri": "https://localhost:8080/"
        },
        "id": "z0t3lrTdaFkt",
        "outputId": "34063eac-6246-458c-9b49-e63743900e19"
      },
      "execution_count": null,
      "outputs": [
        {
          "output_type": "stream",
          "name": "stdout",
          "text": [
            "shagor\n"
          ]
        }
      ]
    },
    {
      "cell_type": "code",
      "source": [
        "x=(1,2)\n",
        "a,b=x\n",
        "print(a)\n",
        "print(b)"
      ],
      "metadata": {
        "colab": {
          "base_uri": "https://localhost:8080/"
        },
        "id": "ms6qUJj1by55",
        "outputId": "8a1f06ed-e4e4-404c-9bdb-6686bdd61e8a"
      },
      "execution_count": null,
      "outputs": [
        {
          "output_type": "stream",
          "name": "stdout",
          "text": [
            "1\n",
            "2\n"
          ]
        }
      ]
    },
    {
      "cell_type": "code",
      "source": [
        "x=(1,2,3,4,5,6,7,8)\n",
        "a,b,*c,d=x\n",
        "print(a)\n",
        "print(b)\n",
        "print(c)\n",
        "print(d)"
      ],
      "metadata": {
        "colab": {
          "base_uri": "https://localhost:8080/"
        },
        "id": "O1ykQKNrc89f",
        "outputId": "64b31538-ec0a-40b7-c707-89b095c13592"
      },
      "execution_count": null,
      "outputs": [
        {
          "output_type": "stream",
          "name": "stdout",
          "text": [
            "1\n",
            "2\n",
            "[3, 4, 5, 6, 7]\n",
            "8\n"
          ]
        }
      ]
    },
    {
      "cell_type": "code",
      "source": [
        ""
      ],
      "metadata": {
        "id": "5Co6Y9wlCCTz"
      },
      "execution_count": null,
      "outputs": []
    },
    {
      "cell_type": "markdown",
      "source": [
        "# Function"
      ],
      "metadata": {
        "id": "r6uXBZCisWTk"
      }
    },
    {
      "cell_type": "code",
      "source": [
        "zahid()"
      ],
      "metadata": {
        "colab": {
          "base_uri": "https://localhost:8080/"
        },
        "id": "fcxwMgIdMR9M",
        "outputId": "ec512e7e-fe8e-4326-ec1a-a9deebf87da9"
      },
      "execution_count": null,
      "outputs": [
        {
          "output_type": "stream",
          "name": "stdout",
          "text": [
            "Statenent: jhfdg\n",
            "jhfdg\n"
          ]
        }
      ]
    },
    {
      "cell_type": "code",
      "source": [
        "def zahid():\n",
        "    x=input(\"Statenent: \")\n",
        "    print(x)"
      ],
      "metadata": {
        "colab": {
          "base_uri": "https://localhost:8080/"
        },
        "id": "ZYcpCl7fLMF0",
        "outputId": "2ab13efc-87ff-4948-f88e-9097354a9a98"
      },
      "execution_count": null,
      "outputs": [
        {
          "output_type": "stream",
          "name": "stdout",
          "text": [
            "Statenent: hjdsfyg\n",
            "hjdsfyg\n"
          ]
        }
      ]
    },
    {
      "cell_type": "code",
      "source": [
        "zahid()\n",
        "zahid()"
      ],
      "metadata": {
        "colab": {
          "base_uri": "https://localhost:8080/"
        },
        "id": "LifHAO-0LdUd",
        "outputId": "4cd659d3-6d91-4d6f-dd9f-dd82c88fc672"
      },
      "execution_count": null,
      "outputs": [
        {
          "output_type": "stream",
          "name": "stdout",
          "text": [
            "Statenent: good boy\n",
            "good boy\n",
            "Statenent: very good boy\n",
            "very good boy\n"
          ]
        }
      ]
    },
    {
      "cell_type": "code",
      "source": [
        "def double(x):\n",
        "    print(x*2)\n",
        "double(2)"
      ],
      "metadata": {
        "colab": {
          "base_uri": "https://localhost:8080/"
        },
        "id": "k2pHgvyEOVA2",
        "outputId": "e20fcb4f-03ad-4293-990b-d82b79bb3234"
      },
      "execution_count": null,
      "outputs": [
        {
          "output_type": "stream",
          "name": "stdout",
          "text": [
            "4\n"
          ]
        }
      ]
    },
    {
      "cell_type": "code",
      "source": [
        "def make_sum(*args):\n",
        "    sum=0\n",
        "    for num in args:\n",
        "        sum+=num\n",
        "    return sum\n",
        "print(make_sum(10,20,30,40))"
      ],
      "metadata": {
        "colab": {
          "base_uri": "https://localhost:8080/"
        },
        "id": "WpP9OqpMQNIe",
        "outputId": "69a8ed7c-75bd-425a-cb62-56a41ebf5c0e"
      },
      "execution_count": null,
      "outputs": [
        {
          "output_type": "stream",
          "name": "stdout",
          "text": [
            "100\n"
          ]
        }
      ]
    },
    {
      "cell_type": "code",
      "source": [
        "def zahid(**args):\n",
        "    print(args)\n",
        "zahid(a=1,b=3)"
      ],
      "metadata": {
        "colab": {
          "base_uri": "https://localhost:8080/"
        },
        "id": "aDqkwJ-SST1d",
        "outputId": "cb642d11-faf3-419a-87e7-cb3dc276f823"
      },
      "execution_count": null,
      "outputs": [
        {
          "output_type": "stream",
          "name": "stdout",
          "text": [
            "{'a': 1, 'b': 3}\n"
          ]
        }
      ]
    },
    {
      "cell_type": "code",
      "source": [
        "def zahid(**args):\n",
        "    for i in args:\n",
        "        print(\"{0} : {1}\".format(i,args[i]))\n",
        "zahid(a=1,b=2)"
      ],
      "metadata": {
        "colab": {
          "base_uri": "https://localhost:8080/"
        },
        "id": "dqnEvL2dTiyb",
        "outputId": "f61d2ae5-9942-4944-848e-108bc464ab5d"
      },
      "execution_count": null,
      "outputs": [
        {
          "output_type": "stream",
          "name": "stdout",
          "text": [
            "a : 1\n",
            "b : 2\n"
          ]
        }
      ]
    },
    {
      "cell_type": "code",
      "source": [
        "def larger(x,y):\n",
        "    if x>y:\n",
        "        return x\n",
        "    else:\n",
        "        return y\n",
        "print(larger(2,3))"
      ],
      "metadata": {
        "colab": {
          "base_uri": "https://localhost:8080/"
        },
        "id": "7L5_DCUgH41-",
        "outputId": "0b727aa5-55f1-4939-dcb5-1d729275b6b8"
      },
      "execution_count": null,
      "outputs": [
        {
          "output_type": "stream",
          "name": "stdout",
          "text": [
            "3\n"
          ]
        }
      ]
    },
    {
      "cell_type": "code",
      "source": [
        "def sum(x,y):\n",
        "    total=x+y\n",
        "    return total\n",
        "    print(\"This wont work\")\n",
        "print(sum(11,11))"
      ],
      "metadata": {
        "colab": {
          "base_uri": "https://localhost:8080/"
        },
        "id": "ylyoAj02JpEV",
        "outputId": "77cd5e88-0fde-4650-d4a4-cf5a8d3a24f4"
      },
      "execution_count": null,
      "outputs": [
        {
          "output_type": "stream",
          "name": "stdout",
          "text": [
            "22\n"
          ]
        }
      ]
    },
    {
      "cell_type": "code",
      "source": [
        "#object Function\n",
        "def num_t(t):\n",
        "    return t+' !!!!'\n",
        "\n",
        "def num_w(func,word):\n",
        "    return \"hello\"+func(word)\n",
        "print(num_w(num_t,\" World\"))"
      ],
      "metadata": {
        "colab": {
          "base_uri": "https://localhost:8080/"
        },
        "id": "BdBuEEMKca6Q",
        "outputId": "8225a532-8e75-40d7-cdfc-ab95b9e0878c"
      },
      "execution_count": null,
      "outputs": [
        {
          "output_type": "stream",
          "name": "stdout",
          "text": [
            "hello World !!!!\n"
          ]
        }
      ]
    },
    {
      "cell_type": "code",
      "source": [
        "#Higher -order -function >> {43}\n",
        "\n",
        "def make_twice(func,arg):\n",
        "    return func(func(arg))\n",
        "def add_anything(x):\n",
        "    return x+6\n",
        "print(make_twice(add_anything,10))"
      ],
      "metadata": {
        "colab": {
          "base_uri": "https://localhost:8080/"
        },
        "id": "hqt4UhMoARgt",
        "outputId": "3b954cf9-d08a-4297-93fc-49c7cf23d278"
      },
      "execution_count": null,
      "outputs": [
        {
          "output_type": "stream",
          "name": "stdout",
          "text": [
            "22\n"
          ]
        }
      ]
    },
    {
      "cell_type": "code",
      "source": [
        "# Pure Function\n",
        "\n",
        "def pure_func(a,b):\n",
        "    c=(2*a)+(3*b)\n",
        "    return c\n",
        "pure_func(1,2)"
      ],
      "metadata": {
        "colab": {
          "base_uri": "https://localhost:8080/"
        },
        "id": "uzaVlr9eBfes",
        "outputId": "f0966067-c130-42c8-fd2f-b319a9af9c6f"
      },
      "execution_count": null,
      "outputs": [
        {
          "output_type": "execute_result",
          "data": {
            "text/plain": [
              "8"
            ]
          },
          "metadata": {},
          "execution_count": 6
        }
      ]
    },
    {
      "cell_type": "code",
      "source": [
        "# Impure FUnction\n",
        "\n",
        "my_list=[]\n",
        "def impure_function(arg):\n",
        "    my_list.append(arg)\n",
        "impure_function(12)\n",
        "print(my_list)"
      ],
      "metadata": {
        "colab": {
          "base_uri": "https://localhost:8080/"
        },
        "id": "YrjhLP_qB6E7",
        "outputId": "2f71977e-0414-4fda-ada5-ee2193115d84"
      },
      "execution_count": null,
      "outputs": [
        {
          "output_type": "stream",
          "name": "stdout",
          "text": [
            "[12]\n"
          ]
        }
      ]
    },
    {
      "cell_type": "markdown",
      "source": [
        "# comment and doc string"
      ],
      "metadata": {
        "id": "4tabkDSWUpSf"
      }
    },
    {
      "cell_type": "code",
      "source": [
        "#Nothing show\n",
        "print(\"Hello zahid\")"
      ],
      "metadata": {
        "colab": {
          "base_uri": "https://localhost:8080/"
        },
        "id": "BJ7hGFgMH34K",
        "outputId": "e45a7afa-57d4-4ec9-c06b-594b9c9c682a"
      },
      "execution_count": null,
      "outputs": [
        {
          "output_type": "stream",
          "name": "stdout",
          "text": [
            "Hello zahid\n"
          ]
        }
      ]
    },
    {
      "cell_type": "code",
      "source": [
        "def zahid(x,y):\n",
        "    \"\"\"print \n",
        "    nothing here \n",
        "    so no tension\"\"\"\n",
        "    return y\n",
        "print(zahid(3,8))\n"
      ],
      "metadata": {
        "colab": {
          "base_uri": "https://localhost:8080/"
        },
        "id": "CN2SI0KWMel-",
        "outputId": "6d3f9104-429a-447b-dab1-1a80cacf25f9"
      },
      "execution_count": null,
      "outputs": [
        {
          "output_type": "stream",
          "name": "stdout",
          "text": [
            "8\n"
          ]
        }
      ]
    },
    {
      "cell_type": "code",
      "source": [
        "print(zahid.__doc__)"
      ],
      "metadata": {
        "colab": {
          "base_uri": "https://localhost:8080/"
        },
        "id": "Mlv60sFGNBuS",
        "outputId": "dd5b06c6-b573-4453-a3f4-16a9807ec117"
      },
      "execution_count": null,
      "outputs": [
        {
          "output_type": "stream",
          "name": "stdout",
          "text": [
            "print \n",
            "    nothing here \n",
            "    so no tension\n"
          ]
        }
      ]
    },
    {
      "cell_type": "markdown",
      "source": [
        "# MOdule"
      ],
      "metadata": {
        "id": "p7ALblGJH2Uu"
      }
    },
    {
      "cell_type": "code",
      "source": [
        "import random\n",
        "value=random.randint(1,10)\n",
        "print(value)"
      ],
      "metadata": {
        "colab": {
          "base_uri": "https://localhost:8080/"
        },
        "id": "Vu-RyBuPw16g",
        "outputId": "22b2792d-1d87-42b7-8bb4-721d6d7ed43c"
      },
      "execution_count": null,
      "outputs": [
        {
          "output_type": "stream",
          "name": "stdout",
          "text": [
            "9\n"
          ]
        }
      ]
    },
    {
      "cell_type": "code",
      "source": [
        "  from math import pi,sqrt\n",
        "  print(pi)\n",
        "  print(sqrt(25))"
      ],
      "metadata": {
        "colab": {
          "base_uri": "https://localhost:8080/"
        },
        "id": "_HuhAKSo7W3K",
        "outputId": "307e598e-77db-42d2-a4a5-883897be8f8e"
      },
      "execution_count": null,
      "outputs": [
        {
          "output_type": "stream",
          "name": "stdout",
          "text": [
            "3.141592653589793\n",
            "5.0\n"
          ]
        }
      ]
    },
    {
      "cell_type": "code",
      "source": [
        "from math import sqrt as square_root\n",
        "print(square_root(36))"
      ],
      "metadata": {
        "colab": {
          "base_uri": "https://localhost:8080/"
        },
        "id": "fvm_IoNH7iaN",
        "outputId": "504f3cbf-7c7c-425e-e003-bc2962aa7bc4"
      },
      "execution_count": null,
      "outputs": [
        {
          "output_type": "stream",
          "name": "stdout",
          "text": [
            "6.0\n"
          ]
        }
      ]
    },
    {
      "cell_type": "markdown",
      "source": [
        "# Exception Handeling"
      ],
      "metadata": {
        "id": "zMGk_ZBWrPFy"
      }
    },
    {
      "cell_type": "code",
      "source": [
        "try:\n",
        "    a=1000\n",
        "    b=int(input(\"Enter YOur Numbber\"))\n",
        "    print(a/b)\n",
        "except ZeroDivisionError:\n",
        "    print(\"You enterd 0\")"
      ],
      "metadata": {
        "colab": {
          "base_uri": "https://localhost:8080/"
        },
        "id": "Sy-tsmUGrTbJ",
        "outputId": "0ae030cb-97dd-47b3-e209-ead92b34af9b"
      },
      "execution_count": null,
      "outputs": [
        {
          "output_type": "stream",
          "name": "stdout",
          "text": [
            "Enter YOur Numbber0\n",
            "You enterd 0\n"
          ]
        }
      ]
    },
    {
      "cell_type": "code",
      "source": [
        "#Finally\n",
        "try:\n",
        "    print(\"Hello\")\n",
        "    print(1/0)\n",
        "except ZeroDivisionError:\n",
        "    print(unknonarr)\n",
        "finally:\n",
        "    print(\"THis code will run no matter\")"
      ],
      "metadata": {
        "colab": {
          "base_uri": "https://localhost:8080/",
          "height": 444
        },
        "id": "BjTpDLOuuQol",
        "outputId": "582da252-3ef7-4df3-9c57-99ccccb4b43d"
      },
      "execution_count": null,
      "outputs": [
        {
          "output_type": "stream",
          "name": "stdout",
          "text": [
            "Hello\n",
            "THis code will run no matter\n"
          ]
        },
        {
          "output_type": "error",
          "ename": "NameError",
          "evalue": "ignored",
          "traceback": [
            "\u001b[0;31m---------------------------------------------------------------------------\u001b[0m",
            "\u001b[0;31mZeroDivisionError\u001b[0m                         Traceback (most recent call last)",
            "\u001b[0;32m<ipython-input-10-0d03c5ac392a>\u001b[0m in \u001b[0;36m<module>\u001b[0;34m()\u001b[0m\n\u001b[1;32m      3\u001b[0m     \u001b[0mprint\u001b[0m\u001b[0;34m(\u001b[0m\u001b[0;34m\"Hello\"\u001b[0m\u001b[0;34m)\u001b[0m\u001b[0;34m\u001b[0m\u001b[0;34m\u001b[0m\u001b[0m\n\u001b[0;32m----> 4\u001b[0;31m     \u001b[0mprint\u001b[0m\u001b[0;34m(\u001b[0m\u001b[0;36m1\u001b[0m\u001b[0;34m/\u001b[0m\u001b[0;36m0\u001b[0m\u001b[0;34m)\u001b[0m\u001b[0;34m\u001b[0m\u001b[0;34m\u001b[0m\u001b[0m\n\u001b[0m\u001b[1;32m      5\u001b[0m \u001b[0;32mexcept\u001b[0m \u001b[0mZeroDivisionError\u001b[0m\u001b[0;34m:\u001b[0m\u001b[0;34m\u001b[0m\u001b[0;34m\u001b[0m\u001b[0m\n",
            "\u001b[0;31mZeroDivisionError\u001b[0m: division by zero",
            "\nDuring handling of the above exception, another exception occurred:\n",
            "\u001b[0;31mNameError\u001b[0m                                 Traceback (most recent call last)",
            "\u001b[0;32m<ipython-input-10-0d03c5ac392a>\u001b[0m in \u001b[0;36m<module>\u001b[0;34m()\u001b[0m\n\u001b[1;32m      4\u001b[0m     \u001b[0mprint\u001b[0m\u001b[0;34m(\u001b[0m\u001b[0;36m1\u001b[0m\u001b[0;34m/\u001b[0m\u001b[0;36m0\u001b[0m\u001b[0;34m)\u001b[0m\u001b[0;34m\u001b[0m\u001b[0;34m\u001b[0m\u001b[0m\n\u001b[1;32m      5\u001b[0m \u001b[0;32mexcept\u001b[0m \u001b[0mZeroDivisionError\u001b[0m\u001b[0;34m:\u001b[0m\u001b[0;34m\u001b[0m\u001b[0;34m\u001b[0m\u001b[0m\n\u001b[0;32m----> 6\u001b[0;31m     \u001b[0mprint\u001b[0m\u001b[0;34m(\u001b[0m\u001b[0munknonarr\u001b[0m\u001b[0;34m)\u001b[0m\u001b[0;34m\u001b[0m\u001b[0;34m\u001b[0m\u001b[0m\n\u001b[0m\u001b[1;32m      7\u001b[0m \u001b[0;32mfinally\u001b[0m\u001b[0;34m:\u001b[0m\u001b[0;34m\u001b[0m\u001b[0;34m\u001b[0m\u001b[0m\n\u001b[1;32m      8\u001b[0m     \u001b[0mprint\u001b[0m\u001b[0;34m(\u001b[0m\u001b[0;34m\"THis code will run no matter\"\u001b[0m\u001b[0;34m)\u001b[0m\u001b[0;34m\u001b[0m\u001b[0;34m\u001b[0m\u001b[0m\n",
            "\u001b[0;31mNameError\u001b[0m: name 'unknonarr' is not defined"
          ]
        }
      ]
    },
    {
      "cell_type": "code",
      "source": [
        "print(\"Hello\")\n",
        "raise NameError('Hi There')"
      ],
      "metadata": {
        "colab": {
          "base_uri": "https://localhost:8080/",
          "height": 201
        },
        "id": "rxpJSTpkw4dZ",
        "outputId": "2cfd3797-8a62-4400-a379-11c57da111f9"
      },
      "execution_count": null,
      "outputs": [
        {
          "output_type": "stream",
          "name": "stdout",
          "text": [
            "Hello\n"
          ]
        },
        {
          "output_type": "error",
          "ename": "NameError",
          "evalue": "ignored",
          "traceback": [
            "\u001b[0;31m---------------------------------------------------------------------------\u001b[0m",
            "\u001b[0;31mNameError\u001b[0m                                 Traceback (most recent call last)",
            "\u001b[0;32m<ipython-input-11-3eb569c0efe9>\u001b[0m in \u001b[0;36m<module>\u001b[0;34m()\u001b[0m\n\u001b[1;32m      1\u001b[0m \u001b[0mprint\u001b[0m\u001b[0;34m(\u001b[0m\u001b[0;34m\"Hello\"\u001b[0m\u001b[0;34m)\u001b[0m\u001b[0;34m\u001b[0m\u001b[0;34m\u001b[0m\u001b[0m\n\u001b[0;32m----> 2\u001b[0;31m \u001b[0;32mraise\u001b[0m \u001b[0mNameError\u001b[0m\u001b[0;34m(\u001b[0m\u001b[0;34m'Hi There'\u001b[0m\u001b[0;34m)\u001b[0m\u001b[0;34m\u001b[0m\u001b[0;34m\u001b[0m\u001b[0m\n\u001b[0m",
            "\u001b[0;31mNameError\u001b[0m: Hi There"
          ]
        }
      ]
    },
    {
      "cell_type": "code",
      "source": [
        "try:\n",
        "    num=5/0\n",
        "except:\n",
        "    print(\"THis is erro ..ageo koya dissi kiintu\")\n",
        "    raise"
      ],
      "metadata": {
        "colab": {
          "base_uri": "https://localhost:8080/",
          "height": 253
        },
        "id": "qEc6-Zplxp1X",
        "outputId": "fe514d7a-3313-43ca-aab3-62f5ce0eae03"
      },
      "execution_count": null,
      "outputs": [
        {
          "output_type": "stream",
          "name": "stdout",
          "text": [
            "THis is erro ..ageo koya dissi kiintu\n"
          ]
        },
        {
          "output_type": "error",
          "ename": "ZeroDivisionError",
          "evalue": "ignored",
          "traceback": [
            "\u001b[0;31m---------------------------------------------------------------------------\u001b[0m",
            "\u001b[0;31mZeroDivisionError\u001b[0m                         Traceback (most recent call last)",
            "\u001b[0;32m<ipython-input-12-3797723b38bc>\u001b[0m in \u001b[0;36m<module>\u001b[0;34m()\u001b[0m\n\u001b[1;32m      1\u001b[0m \u001b[0;32mtry\u001b[0m\u001b[0;34m:\u001b[0m\u001b[0;34m\u001b[0m\u001b[0;34m\u001b[0m\u001b[0m\n\u001b[0;32m----> 2\u001b[0;31m     \u001b[0mnum\u001b[0m\u001b[0;34m=\u001b[0m\u001b[0;36m5\u001b[0m\u001b[0;34m/\u001b[0m\u001b[0;36m0\u001b[0m\u001b[0;34m\u001b[0m\u001b[0;34m\u001b[0m\u001b[0m\n\u001b[0m\u001b[1;32m      3\u001b[0m \u001b[0;32mexcept\u001b[0m\u001b[0;34m:\u001b[0m\u001b[0;34m\u001b[0m\u001b[0;34m\u001b[0m\u001b[0m\n\u001b[1;32m      4\u001b[0m     \u001b[0mprint\u001b[0m\u001b[0;34m(\u001b[0m\u001b[0;34m\"THis is erro ..ageo koya dissi kiintu\"\u001b[0m\u001b[0;34m)\u001b[0m\u001b[0;34m\u001b[0m\u001b[0;34m\u001b[0m\u001b[0m\n\u001b[1;32m      5\u001b[0m     \u001b[0;32mraise\u001b[0m\u001b[0;34m\u001b[0m\u001b[0;34m\u001b[0m\u001b[0m\n",
            "\u001b[0;31mZeroDivisionError\u001b[0m: division by zero"
          ]
        }
      ]
    },
    {
      "cell_type": "markdown",
      "source": [
        "# Assertion"
      ],
      "metadata": {
        "id": "JHOaIH5yB5mH"
      }
    },
    {
      "cell_type": "code",
      "source": [
        "print(\"Start \")\n",
        "assert 2+2==4\n",
        "print(\"True upper\")\n",
        "assert 1+1==3\n",
        "print(3)"
      ],
      "metadata": {
        "colab": {
          "base_uri": "https://localhost:8080/",
          "height": 253
        },
        "id": "sJ7nTMtDCN1S",
        "outputId": "c8040612-2996-48b1-dc38-442825d2143a"
      },
      "execution_count": null,
      "outputs": [
        {
          "output_type": "stream",
          "name": "stdout",
          "text": [
            "Start \n",
            "True upper\n"
          ]
        },
        {
          "output_type": "error",
          "ename": "AssertionError",
          "evalue": "ignored",
          "traceback": [
            "\u001b[0;31m---------------------------------------------------------------------------\u001b[0m",
            "\u001b[0;31mAssertionError\u001b[0m                            Traceback (most recent call last)",
            "\u001b[0;32m<ipython-input-1-e6419cc1b7f8>\u001b[0m in \u001b[0;36m<module>\u001b[0;34m()\u001b[0m\n\u001b[1;32m      2\u001b[0m \u001b[0;32massert\u001b[0m \u001b[0;36m2\u001b[0m\u001b[0;34m+\u001b[0m\u001b[0;36m2\u001b[0m\u001b[0;34m==\u001b[0m\u001b[0;36m4\u001b[0m\u001b[0;34m\u001b[0m\u001b[0;34m\u001b[0m\u001b[0m\n\u001b[1;32m      3\u001b[0m \u001b[0mprint\u001b[0m\u001b[0;34m(\u001b[0m\u001b[0;34m\"True upper\"\u001b[0m\u001b[0;34m)\u001b[0m\u001b[0;34m\u001b[0m\u001b[0;34m\u001b[0m\u001b[0m\n\u001b[0;32m----> 4\u001b[0;31m \u001b[0;32massert\u001b[0m \u001b[0;36m1\u001b[0m\u001b[0;34m+\u001b[0m\u001b[0;36m1\u001b[0m\u001b[0;34m==\u001b[0m\u001b[0;36m3\u001b[0m\u001b[0;34m\u001b[0m\u001b[0;34m\u001b[0m\u001b[0m\n\u001b[0m\u001b[1;32m      5\u001b[0m \u001b[0mprint\u001b[0m\u001b[0;34m(\u001b[0m\u001b[0;36m3\u001b[0m\u001b[0;34m)\u001b[0m\u001b[0;34m\u001b[0m\u001b[0;34m\u001b[0m\u001b[0m\n",
            "\u001b[0;31mAssertionError\u001b[0m: "
          ]
        }
      ]
    },
    {
      "cell_type": "code",
      "source": [
        "def zahid(tem):\n",
        "    assert (tem>=0),\"Cooler than absolute zero\"\n",
        "    return ((tem-273)*1.8)+32\n",
        "print(zahid(405))\n",
        "print(zahid(-5))"
      ],
      "metadata": {
        "id": "W1kwyK_OJ2_W"
      },
      "execution_count": null,
      "outputs": []
    },
    {
      "cell_type": "markdown",
      "source": [
        "# File Open"
      ],
      "metadata": {
        "id": "YZFYxvLJ3Bgy"
      }
    },
    {
      "cell_type": "markdown",
      "source": [
        "# MOunt Form Drive and access"
      ],
      "metadata": {
        "id": "I10f68YFHb10"
      }
    },
    {
      "cell_type": "code",
      "source": [
        "from google.colab import drive\n",
        "drive.mount('/content/gdrive')"
      ],
      "metadata": {
        "colab": {
          "base_uri": "https://localhost:8080/"
        },
        "id": "S74KSSdGMO_W",
        "outputId": "b15dfeed-6a28-452c-8954-150757a0ba77"
      },
      "execution_count": null,
      "outputs": [
        {
          "output_type": "stream",
          "name": "stdout",
          "text": [
            "Mounted at /content/gdrive\n"
          ]
        }
      ]
    },
    {
      "cell_type": "code",
      "source": [
        "file_to_work=open('gdrive/My Drive/Colab Notebooks/first_file.txt')"
      ],
      "metadata": {
        "id": "vmubeAyIMso-"
      },
      "execution_count": null,
      "outputs": []
    },
    {
      "cell_type": "code",
      "source": [
        "content=file_to_work.read()\n",
        "print(content)"
      ],
      "metadata": {
        "colab": {
          "base_uri": "https://localhost:8080/"
        },
        "id": "u5wLwzlqNKpF",
        "outputId": "1aa06616-392f-4363-e674-8c3f6b28ca1d"
      },
      "execution_count": null,
      "outputs": [
        {
          "output_type": "stream",
          "name": "stdout",
          "text": [
            "Hello Google Drive!\n"
          ]
        }
      ]
    },
    {
      "cell_type": "code",
      "source": [
        "just1character=file_to_work.read(2)\n",
        "print(just1character)"
      ],
      "metadata": {
        "id": "l0rJ3deK3E2P",
        "colab": {
          "base_uri": "https://localhost:8080/"
        },
        "outputId": "73da3548-2168-414e-cd7c-53e38f252cc7"
      },
      "execution_count": null,
      "outputs": [
        {
          "output_type": "stream",
          "name": "stdout",
          "text": [
            "\n"
          ]
        }
      ]
    },
    {
      "cell_type": "code",
      "source": [
        "just4characterafter=file_to_work.read(4)\n",
        "print(just4characterafter)"
      ],
      "metadata": {
        "colab": {
          "base_uri": "https://localhost:8080/"
        },
        "id": "2R9yMOZyObIE",
        "outputId": "50ab38a6-e798-4a89-8a99-7f09a8c19d16"
      },
      "execution_count": null,
      "outputs": [
        {
          "output_type": "stream",
          "name": "stdout",
          "text": [
            "\n"
          ]
        }
      ]
    },
    {
      "cell_type": "code",
      "source": [
        "after_character=file_to_work.read()\n",
        "print(after_character)"
      ],
      "metadata": {
        "colab": {
          "base_uri": "https://localhost:8080/"
        },
        "id": "uAGkMVKsOjX6",
        "outputId": "4258fb30-b862-4bc7-9b0b-013592b4782d"
      },
      "execution_count": null,
      "outputs": [
        {
          "output_type": "stream",
          "name": "stdout",
          "text": [
            "\n"
          ]
        }
      ]
    },
    {
      "cell_type": "code",
      "source": [
        "#Loop use\n",
        "for my_line in file_to_work:\n",
        "    print(my_line)"
      ],
      "metadata": {
        "colab": {
          "base_uri": "https://localhost:8080/"
        },
        "id": "hzYhfdkzQC-u",
        "outputId": "c4f335f7-35a6-4b8b-e0e4-3fd4b582258a"
      },
      "execution_count": null,
      "outputs": [
        {
          "output_type": "stream",
          "name": "stdout",
          "text": [
            "Hello Google Drive!\n"
          ]
        }
      ]
    },
    {
      "cell_type": "code",
      "source": [
        "file_to_work.close()"
      ],
      "metadata": {
        "id": "DcWIGsnxNz1U"
      },
      "execution_count": null,
      "outputs": []
    },
    {
      "cell_type": "code",
      "source": [
        "#Write in file\n",
        "file2_work=open('gdrive/My Drive/Colab Notebooks/second_file.txt','w')\n",
        "file2_work.write(\"and second throught is my name is dont know\")\n",
        "file2_work.close()"
      ],
      "metadata": {
        "id": "RQfeFheJV7mc"
      },
      "execution_count": null,
      "outputs": []
    },
    {
      "cell_type": "code",
      "source": [
        "file2_work=open('gdrive/My Drive/Colab Notebooks/second_file.txt','r')\n",
        "print(file2_work.read())\n",
        "file2_work.close()"
      ],
      "metadata": {
        "colab": {
          "base_uri": "https://localhost:8080/"
        },
        "id": "FrFzgRpnWTE_",
        "outputId": "c9ad67ae-6342-46d2-e6a7-42310157eeab"
      },
      "execution_count": null,
      "outputs": [
        {
          "output_type": "stream",
          "name": "stdout",
          "text": [
            "and second throught is my name is dont know\n"
          ]
        }
      ]
    },
    {
      "cell_type": "code",
      "execution_count": null,
      "metadata": {
        "colab": {
          "base_uri": "https://localhost:8080/"
        },
        "id": "XDg9OBaYqRMd",
        "outputId": "af1a6786-2be9-4d8c-aaf0-9df9de5d33a0"
      },
      "outputs": [
        {
          "output_type": "stream",
          "name": "stdout",
          "text": [
            "Yes, 43 Bytes has been written\n"
          ]
        }
      ],
      "source": [
        "#How Byte I written\n",
        "file2_work=open('gdrive/My Drive/Colab Notebooks/second_file.txt','w')\n",
        "writting_done=file2_work.write(\"and second throught is my name is dont know\")\n",
        "if writting_done:\n",
        "    print(\"Yes, {0} Bytes has been written\".format(writting_done))\n",
        "file2_work.close()"
      ]
    },
    {
      "cell_type": "code",
      "source": [
        "#Make Temporary file with dont need close the programm\n",
        "with open('gdrive/My Drive/Colab Notebooks/second_file.txt') as f:\n",
        "    print(f.read())"
      ],
      "metadata": {
        "colab": {
          "base_uri": "https://localhost:8080/"
        },
        "id": "FtEwuZupUk0v",
        "outputId": "cb794678-7189-406c-8f22-ad6410848f9c"
      },
      "execution_count": null,
      "outputs": [
        {
          "output_type": "stream",
          "name": "stdout",
          "text": [
            "and second throught is my name is dont know\n"
          ]
        }
      ]
    },
    {
      "cell_type": "markdown",
      "source": [
        "# LAmbda "
      ],
      "metadata": {
        "id": "XifrNCsSRwFD"
      }
    },
    {
      "cell_type": "code",
      "source": [
        "print((lambda x,y:x*2*y)(2,3))"
      ],
      "metadata": {
        "colab": {
          "base_uri": "https://localhost:8080/"
        },
        "id": "J7JBUAqoJZNL",
        "outputId": "9774f006-67b9-471d-d184-66da57566405"
      },
      "execution_count": null,
      "outputs": [
        {
          "output_type": "stream",
          "name": "stdout",
          "text": [
            "12\n"
          ]
        }
      ]
    },
    {
      "cell_type": "code",
      "source": [
        "#Higher Order Function\n",
        "def make_twice(func,arg):\n",
        "    return func(func(arg))\n",
        "    \n",
        "def add_anything(x):\n",
        "    return x+6\n",
        "print(make_twice(add_anything,10))"
      ],
      "metadata": {
        "colab": {
          "base_uri": "https://localhost:8080/"
        },
        "id": "3s3JGLUuKCkf",
        "outputId": "10c1543d-01c4-43d8-cf9c-3ba32ecec06b"
      },
      "execution_count": null,
      "outputs": [
        {
          "output_type": "stream",
          "name": "stdout",
          "text": [
            "22\n"
          ]
        }
      ]
    },
    {
      "cell_type": "code",
      "source": [
        "def make_twice(func,arg):\n",
        "    return func(func(arg))\n",
        "print(make_twice(lambda x:x+6,10))"
      ],
      "metadata": {
        "colab": {
          "base_uri": "https://localhost:8080/"
        },
        "id": "HBhRWsxjKJUf",
        "outputId": "69f85c73-85be-48f6-e54b-a35a764c247b"
      },
      "execution_count": null,
      "outputs": [
        {
          "output_type": "stream",
          "name": "stdout",
          "text": [
            "22\n"
          ]
        }
      ]
    },
    {
      "cell_type": "markdown",
      "source": [
        "# Map And Filter"
      ],
      "metadata": {
        "id": "9h4CV6cYQNHx"
      }
    },
    {
      "cell_type": "code",
      "source": [
        "def make_double(x):\n",
        "    return x*2\n",
        "my_mark=[10,20,30,40,50]\n",
        "result=map(make_double,my_mark)\n",
        "print(list(result))"
      ],
      "metadata": {
        "colab": {
          "base_uri": "https://localhost:8080/"
        },
        "id": "vfFMly5BQS-S",
        "outputId": "9b560a17-cf58-40f8-81ad-70b04f6052bc"
      },
      "execution_count": null,
      "outputs": [
        {
          "output_type": "stream",
          "name": "stdout",
          "text": [
            "[20, 40, 60, 80, 100]\n"
          ]
        }
      ]
    },
    {
      "cell_type": "code",
      "source": [
        "#Filter\n",
        "def is_even(x):\n",
        "    return x%2==0\n",
        "my_num=[1,2,3,4,5,6,7,8]\n",
        "result=filter(is_even,my_num)\n",
        "print(list(result))"
      ],
      "metadata": {
        "colab": {
          "base_uri": "https://localhost:8080/"
        },
        "id": "1y9os5HgQYA-",
        "outputId": "d1985c44-f5c3-469a-d7c8-4b76a011f9c5"
      },
      "execution_count": null,
      "outputs": [
        {
          "output_type": "stream",
          "name": "stdout",
          "text": [
            "[2, 4, 6, 8]\n"
          ]
        }
      ]
    },
    {
      "cell_type": "code",
      "source": [
        ""
      ],
      "metadata": {
        "id": "jjLbb7mjR2Oj"
      },
      "execution_count": null,
      "outputs": []
    }
  ]
}