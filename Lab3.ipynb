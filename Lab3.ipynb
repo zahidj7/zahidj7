{
  "nbformat": 4,
  "nbformat_minor": 0,
  "metadata": {
    "colab": {
      "name": "Lab3.ipynb",
      "provenance": [],
      "authorship_tag": "ABX9TyO+/IQkoqF4j4D4cT+XKLhk",
      "include_colab_link": true
    },
    "kernelspec": {
      "name": "python3",
      "display_name": "Python 3"
    },
    "language_info": {
      "name": "python"
    }
  },
  "cells": [
    {
      "cell_type": "markdown",
      "metadata": {
        "id": "view-in-github",
        "colab_type": "text"
      },
      "source": [
        "<a href=\"https://colab.research.google.com/github/zahidj7/zahidj7/blob/main/Lab3.ipynb\" target=\"_parent\"><img src=\"https://colab.research.google.com/assets/colab-badge.svg\" alt=\"Open In Colab\"/></a>"
      ]
    },
    {
      "cell_type": "code",
      "metadata": {
        "colab": {
          "base_uri": "https://localhost:8080/"
        },
        "id": "VKGbQzrgYa7O",
        "outputId": "efcb05a8-6220-4167-dec3-ed3d1a912eae"
      },
      "source": [
        "data=[]\n",
        "choice='random'\n",
        "\n",
        "def line():\n",
        "    print('._._._._._._._._._._._._._._')\n",
        "\n",
        "def show_course():\n",
        "    line()\n",
        "    print('Courses')\n",
        "    line()\n",
        "    print('1.Add Course')\n",
        "    print('2.Unenroll Course')\n",
        "    print('3.Show COurse')\n",
        "    print('4.Exit')\n",
        "    line()\n",
        "    choice=input('Enter Your Choice : ')\n",
        "    return choice\n",
        "\n",
        "while choice !='4':\n",
        "    choice=show_course()\n",
        "    if choice=='1':\n",
        "        course=input('What Is the new course you add?')\n",
        "        data.append(course)\n",
        "        print('Course',course ,'Added')\n",
        "    elif choice=='2':\n",
        "        course=input('what course do you unenroll')\n",
        "        if course in data:\n",
        "            data.remove(course)\n",
        "            print('Course in successfully Unenroll',course)\n",
        "        else:\n",
        "            print('Course is not in your semester',course)\n",
        "    elif choice=='3':\n",
        "        print('Your semester course is:')\n",
        "        for course in data:\n",
        "            print(course)\n",
        "    elif choice=='4':\n",
        "        print('Good bye')\n",
        "    else :\n",
        "        print('Please Enter 1,2,3 OR 4')\n"
      ],
      "execution_count": 11,
      "outputs": [
        {
          "output_type": "stream",
          "name": "stdout",
          "text": [
            "._._._._._._._._._._._._._._\n",
            "Courses\n",
            "._._._._._._._._._._._._._._\n",
            "1.Add Course\n",
            "2.Unenroll Course\n",
            "3.Show COurse\n",
            "4.Exit\n",
            "._._._._._._._._._._._._._._\n",
            "Enter Your Choice : 1\n",
            "What Is the new course you add?A\n",
            "Course A Added\n",
            "._._._._._._._._._._._._._._\n",
            "Courses\n",
            "._._._._._._._._._._._._._._\n",
            "1.Add Course\n",
            "2.Unenroll Course\n",
            "3.Show COurse\n",
            "4.Exit\n",
            "._._._._._._._._._._._._._._\n",
            "Enter Your Choice : 1\n",
            "What Is the new course you add?B\n",
            "Course B Added\n",
            "._._._._._._._._._._._._._._\n",
            "Courses\n",
            "._._._._._._._._._._._._._._\n",
            "1.Add Course\n",
            "2.Unenroll Course\n",
            "3.Show COurse\n",
            "4.Exit\n",
            "._._._._._._._._._._._._._._\n",
            "Enter Your Choice : 1\n",
            "What Is the new course you add?C\n",
            "Course C Added\n",
            "._._._._._._._._._._._._._._\n",
            "Courses\n",
            "._._._._._._._._._._._._._._\n",
            "1.Add Course\n",
            "2.Unenroll Course\n",
            "3.Show COurse\n",
            "4.Exit\n",
            "._._._._._._._._._._._._._._\n",
            "Enter Your Choice : 3\n",
            "Your semester course is:\n",
            "A\n",
            "B\n",
            "C\n",
            "._._._._._._._._._._._._._._\n",
            "Courses\n",
            "._._._._._._._._._._._._._._\n",
            "1.Add Course\n",
            "2.Unenroll Course\n",
            "3.Show COurse\n",
            "4.Exit\n",
            "._._._._._._._._._._._._._._\n",
            "Enter Your Choice : 2\n",
            "what course do you unenrollC\n",
            "Course in successfully Unenroll C\n",
            "._._._._._._._._._._._._._._\n",
            "Courses\n",
            "._._._._._._._._._._._._._._\n",
            "1.Add Course\n",
            "2.Unenroll Course\n",
            "3.Show COurse\n",
            "4.Exit\n",
            "._._._._._._._._._._._._._._\n",
            "Enter Your Choice : 4\n",
            "Good bye\n"
          ]
        }
      ]
    }
  ]
}